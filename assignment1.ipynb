{
 "cells": [
  {
   "cell_type": "code",
   "execution_count": 1,
   "metadata": {
    "deletable": false,
    "editable": false
   },
   "outputs": [],
   "source": [
    "# Initialize Otter\n",
    "import otter\n",
    "grader = otter.Notebook(\"assignment1.ipynb\")"
   ]
  },
  {
   "cell_type": "markdown",
   "metadata": {
    "nbgrader": {
     "grade": false,
     "grade_id": "title",
     "locked": true,
     "schema_version": 2,
     "solution": false
    }
   },
   "source": [
    "# Assignment 1: 2018 US House Elections\n",
    "\n",
    "## Collaboration Policy\n",
    "\n",
    "Data science is a collaborative activity. While you may talk with others about\n",
    "the homework, we ask that you **write your solutions individually**. If you do\n",
    "discuss the assignments with others please **include their names** at the top\n",
    "of your notebook.\n",
    "\n",
    "**Collaborators**: *list collaborators here*"
   ]
  },
  {
   "cell_type": "markdown",
   "metadata": {},
   "source": [
    "## Direction and Goal\n",
    "\n",
    "![election_prediction](images/clinton-trump-rating.png)  \n",
    "[image credit](https://donsnotes.com/politics/images/clinton-trump-rating.png)\n",
    "\n",
    "We haven't talked about predictive models, but we can still think about what makes a \"good\" prediction.  In this assignment, we'll focus on evaluating the quality of election predictions made by the website [fivethirtyeight.com](https://www.fivethirtyeight.com).  As one prominent example, fivethirtyeight predicted that Clinton had a 70.9% chance to win the election.  Was their model wrong?\n",
    "\n",
    "To gain insight into questions like this, we'll focus on  [US House elections predictions from 2018](https://projects.fivethirtyeight.com/2018-midterm-election-forecast/house/).  Their predictions are based predominantly on polling data but include other sources as well (state of the economy, overall favoriability of politic parties, etc).  \n",
    "\n",
    "This homework is based loosely on [this article](https://projects.fivethirtyeight.com/checking-our-work/).  Please read the article before beginning the assignment."
   ]
  },
  {
   "cell_type": "markdown",
   "metadata": {},
   "source": [
    "## Question 1: Data Processing"
   ]
  },
  {
   "cell_type": "markdown",
   "metadata": {},
   "source": [
    "### Download Data\n",
    "Command line interface is a useful tool for programmatically interacting with general functions of your computer: e.g. manipulate/manage files, download from the internet, run scripts, etc.\n",
    "\n",
    "We will get acquainted with command line soon, but below uses command line interace commands to download the raw CSV file from [fivethirtyeight's github page for this data](https://github.com/fivethirtyeight/checking-our-work-data/blob/master/us_house_elections.csv). The `!` mark tells Jupyter notebook that the command following it is to be evaluated as a command line code."
   ]
  },
  {
   "cell_type": "code",
   "execution_count": 2,
   "metadata": {},
   "outputs": [
    {
     "name": "stdout",
     "output_type": "stream",
     "text": [
      "File ‘us_house_elections.csv’ already there; not retrieving.\r\n",
      "\r\n"
     ]
    }
   ],
   "source": [
    "!wget -nc https://raw.githubusercontent.com/fivethirtyeight/checking-our-work-data/master/us_house_elections.csv"
   ]
  },
  {
   "cell_type": "code",
   "execution_count": 3,
   "metadata": {},
   "outputs": [
    {
     "name": "stdout",
     "output_type": "stream",
     "text": [
      "total 23580\r\n",
      "-rw-rw-r-- 1 jovyan users   103038 Oct 13 20:09 assignment1.ipynb\r\n",
      "drwxrwsr-x 2 jovyan users     4096 Sep 27 18:15 images/\r\n",
      "drwxrwsr-x 2 jovyan users     4096 Sep 27 18:15 tests/\r\n",
      "-rw-rw-r-- 1 jovyan users 24027649 Sep 27 18:15 us_house_elections.csv\r\n"
     ]
    }
   ],
   "source": [
    "!ls -lF ## `ls` command verify that data is downloaded in our folder"
   ]
  },
  {
   "cell_type": "markdown",
   "metadata": {},
   "source": [
    "### Read Data into Python\n",
    "\n",
    "Numpy and Pandas is used to read in the csv file into python."
   ]
  },
  {
   "cell_type": "code",
   "execution_count": 4,
   "metadata": {},
   "outputs": [],
   "source": [
    "import pandas as pd\n",
    "import numpy as np\n",
    "election_data = pd.read_csv(\"us_house_elections.csv\", low_memory=False)"
   ]
  },
  {
   "cell_type": "markdown",
   "metadata": {},
   "source": [
    "Add column of zeros named `bin` to `election_data` (we will populate this column with meaningful data later) and `print` the first 10 rows of the `DataFrame` using `iloc`."
   ]
  },
  {
   "cell_type": "code",
   "execution_count": 5,
   "metadata": {},
   "outputs": [
    {
     "data": {
      "text/html": [
       "<div>\n",
       "<style scoped>\n",
       "    .dataframe tbody tr th:only-of-type {\n",
       "        vertical-align: middle;\n",
       "    }\n",
       "\n",
       "    .dataframe tbody tr th {\n",
       "        vertical-align: top;\n",
       "    }\n",
       "\n",
       "    .dataframe thead th {\n",
       "        text-align: right;\n",
       "    }\n",
       "</style>\n",
       "<table border=\"1\" class=\"dataframe\">\n",
       "  <thead>\n",
       "    <tr style=\"text-align: right;\">\n",
       "      <th></th>\n",
       "      <th>year</th>\n",
       "      <th>office</th>\n",
       "      <th>state</th>\n",
       "      <th>district</th>\n",
       "      <th>special</th>\n",
       "      <th>election_date</th>\n",
       "      <th>forecast_date</th>\n",
       "      <th>forecast_type</th>\n",
       "      <th>party</th>\n",
       "      <th>candidate</th>\n",
       "      <th>projected_voteshare</th>\n",
       "      <th>actual_voteshare</th>\n",
       "      <th>probwin</th>\n",
       "      <th>probwin_outcome</th>\n",
       "      <th>bin</th>\n",
       "    </tr>\n",
       "  </thead>\n",
       "  <tbody>\n",
       "    <tr>\n",
       "      <th>0</th>\n",
       "      <td>2018</td>\n",
       "      <td>House</td>\n",
       "      <td>WY</td>\n",
       "      <td>1.0</td>\n",
       "      <td>False</td>\n",
       "      <td>2018-11-06</td>\n",
       "      <td>2018-11-06</td>\n",
       "      <td>lite</td>\n",
       "      <td>D</td>\n",
       "      <td>Greg Hunter</td>\n",
       "      <td>33.29836</td>\n",
       "      <td>NaN</td>\n",
       "      <td>0.00134</td>\n",
       "      <td>0</td>\n",
       "      <td>0</td>\n",
       "    </tr>\n",
       "    <tr>\n",
       "      <th>1</th>\n",
       "      <td>2018</td>\n",
       "      <td>House</td>\n",
       "      <td>WY</td>\n",
       "      <td>1.0</td>\n",
       "      <td>False</td>\n",
       "      <td>2018-11-06</td>\n",
       "      <td>2018-11-06</td>\n",
       "      <td>lite</td>\n",
       "      <td>R</td>\n",
       "      <td>Liz Cheney</td>\n",
       "      <td>61.18835</td>\n",
       "      <td>NaN</td>\n",
       "      <td>0.99866</td>\n",
       "      <td>1</td>\n",
       "      <td>0</td>\n",
       "    </tr>\n",
       "    <tr>\n",
       "      <th>2</th>\n",
       "      <td>2018</td>\n",
       "      <td>House</td>\n",
       "      <td>WY</td>\n",
       "      <td>1.0</td>\n",
       "      <td>False</td>\n",
       "      <td>2018-11-06</td>\n",
       "      <td>2018-11-06</td>\n",
       "      <td>deluxe</td>\n",
       "      <td>D</td>\n",
       "      <td>Greg Hunter</td>\n",
       "      <td>31.37998</td>\n",
       "      <td>NaN</td>\n",
       "      <td>0.00020</td>\n",
       "      <td>0</td>\n",
       "      <td>0</td>\n",
       "    </tr>\n",
       "    <tr>\n",
       "      <th>3</th>\n",
       "      <td>2018</td>\n",
       "      <td>House</td>\n",
       "      <td>WY</td>\n",
       "      <td>1.0</td>\n",
       "      <td>False</td>\n",
       "      <td>2018-11-06</td>\n",
       "      <td>2018-11-06</td>\n",
       "      <td>deluxe</td>\n",
       "      <td>R</td>\n",
       "      <td>Liz Cheney</td>\n",
       "      <td>63.10673</td>\n",
       "      <td>NaN</td>\n",
       "      <td>0.99980</td>\n",
       "      <td>1</td>\n",
       "      <td>0</td>\n",
       "    </tr>\n",
       "    <tr>\n",
       "      <th>4</th>\n",
       "      <td>2018</td>\n",
       "      <td>House</td>\n",
       "      <td>WY</td>\n",
       "      <td>1.0</td>\n",
       "      <td>False</td>\n",
       "      <td>2018-11-06</td>\n",
       "      <td>2018-11-06</td>\n",
       "      <td>classic</td>\n",
       "      <td>D</td>\n",
       "      <td>Greg Hunter</td>\n",
       "      <td>31.33293</td>\n",
       "      <td>NaN</td>\n",
       "      <td>0.00032</td>\n",
       "      <td>0</td>\n",
       "      <td>0</td>\n",
       "    </tr>\n",
       "    <tr>\n",
       "      <th>5</th>\n",
       "      <td>2018</td>\n",
       "      <td>House</td>\n",
       "      <td>WY</td>\n",
       "      <td>1.0</td>\n",
       "      <td>False</td>\n",
       "      <td>2018-11-06</td>\n",
       "      <td>2018-11-06</td>\n",
       "      <td>classic</td>\n",
       "      <td>R</td>\n",
       "      <td>Liz Cheney</td>\n",
       "      <td>63.15379</td>\n",
       "      <td>NaN</td>\n",
       "      <td>0.99968</td>\n",
       "      <td>1</td>\n",
       "      <td>0</td>\n",
       "    </tr>\n",
       "    <tr>\n",
       "      <th>6</th>\n",
       "      <td>2018</td>\n",
       "      <td>House</td>\n",
       "      <td>WV</td>\n",
       "      <td>3.0</td>\n",
       "      <td>False</td>\n",
       "      <td>2018-11-06</td>\n",
       "      <td>2018-11-06</td>\n",
       "      <td>lite</td>\n",
       "      <td>D</td>\n",
       "      <td>Richard Neece Ojeda</td>\n",
       "      <td>47.56779</td>\n",
       "      <td>NaN</td>\n",
       "      <td>0.27966</td>\n",
       "      <td>0</td>\n",
       "      <td>0</td>\n",
       "    </tr>\n",
       "    <tr>\n",
       "      <th>7</th>\n",
       "      <td>2018</td>\n",
       "      <td>House</td>\n",
       "      <td>WV</td>\n",
       "      <td>3.0</td>\n",
       "      <td>False</td>\n",
       "      <td>2018-11-06</td>\n",
       "      <td>2018-11-06</td>\n",
       "      <td>lite</td>\n",
       "      <td>R</td>\n",
       "      <td>Carol Devine Miller</td>\n",
       "      <td>52.43221</td>\n",
       "      <td>NaN</td>\n",
       "      <td>0.72034</td>\n",
       "      <td>1</td>\n",
       "      <td>0</td>\n",
       "    </tr>\n",
       "    <tr>\n",
       "      <th>8</th>\n",
       "      <td>2018</td>\n",
       "      <td>House</td>\n",
       "      <td>WV</td>\n",
       "      <td>3.0</td>\n",
       "      <td>False</td>\n",
       "      <td>2018-11-06</td>\n",
       "      <td>2018-11-06</td>\n",
       "      <td>deluxe</td>\n",
       "      <td>D</td>\n",
       "      <td>Richard Neece Ojeda</td>\n",
       "      <td>45.14111</td>\n",
       "      <td>NaN</td>\n",
       "      <td>0.09662</td>\n",
       "      <td>0</td>\n",
       "      <td>0</td>\n",
       "    </tr>\n",
       "    <tr>\n",
       "      <th>9</th>\n",
       "      <td>2018</td>\n",
       "      <td>House</td>\n",
       "      <td>WV</td>\n",
       "      <td>3.0</td>\n",
       "      <td>False</td>\n",
       "      <td>2018-11-06</td>\n",
       "      <td>2018-11-06</td>\n",
       "      <td>deluxe</td>\n",
       "      <td>R</td>\n",
       "      <td>Carol Devine Miller</td>\n",
       "      <td>54.85889</td>\n",
       "      <td>NaN</td>\n",
       "      <td>0.90338</td>\n",
       "      <td>1</td>\n",
       "      <td>0</td>\n",
       "    </tr>\n",
       "  </tbody>\n",
       "</table>\n",
       "</div>"
      ],
      "text/plain": [
       "   year office state  district special election_date forecast_date  \\\n",
       "0  2018  House    WY       1.0   False    2018-11-06    2018-11-06   \n",
       "1  2018  House    WY       1.0   False    2018-11-06    2018-11-06   \n",
       "2  2018  House    WY       1.0   False    2018-11-06    2018-11-06   \n",
       "3  2018  House    WY       1.0   False    2018-11-06    2018-11-06   \n",
       "4  2018  House    WY       1.0   False    2018-11-06    2018-11-06   \n",
       "5  2018  House    WY       1.0   False    2018-11-06    2018-11-06   \n",
       "6  2018  House    WV       3.0   False    2018-11-06    2018-11-06   \n",
       "7  2018  House    WV       3.0   False    2018-11-06    2018-11-06   \n",
       "8  2018  House    WV       3.0   False    2018-11-06    2018-11-06   \n",
       "9  2018  House    WV       3.0   False    2018-11-06    2018-11-06   \n",
       "\n",
       "  forecast_type party            candidate  projected_voteshare  \\\n",
       "0          lite     D          Greg Hunter             33.29836   \n",
       "1          lite     R           Liz Cheney             61.18835   \n",
       "2        deluxe     D          Greg Hunter             31.37998   \n",
       "3        deluxe     R           Liz Cheney             63.10673   \n",
       "4       classic     D          Greg Hunter             31.33293   \n",
       "5       classic     R           Liz Cheney             63.15379   \n",
       "6          lite     D  Richard Neece Ojeda             47.56779   \n",
       "7          lite     R  Carol Devine Miller             52.43221   \n",
       "8        deluxe     D  Richard Neece Ojeda             45.14111   \n",
       "9        deluxe     R  Carol Devine Miller             54.85889   \n",
       "\n",
       "   actual_voteshare  probwin  probwin_outcome  bin  \n",
       "0               NaN  0.00134                0    0  \n",
       "1               NaN  0.99866                1    0  \n",
       "2               NaN  0.00020                0    0  \n",
       "3               NaN  0.99980                1    0  \n",
       "4               NaN  0.00032                0    0  \n",
       "5               NaN  0.99968                1    0  \n",
       "6               NaN  0.27966                0    0  \n",
       "7               NaN  0.72034                1    0  \n",
       "8               NaN  0.09662                0    0  \n",
       "9               NaN  0.90338                1    0  "
      ]
     },
     "execution_count": 5,
     "metadata": {},
     "output_type": "execute_result"
    }
   ],
   "source": [
    "election_data['bin'] = 0\n",
    "election_data.iloc[:10,]"
   ]
  },
  {
   "cell_type": "markdown",
   "metadata": {},
   "source": [
    "Fivethirtyeight has three different prediction models: `lite`, `classic` and `deluxe`, which roughly incorporate an increasing number of assumptions.  In this assignment lets focus on evaluting the quality of the `classic` predictions.  You can read more about how the prediction models work [here](https://fivethirtyeight.com/methodology/how-fivethirtyeights-house-and-senate-models-work/).\n",
    "\n",
    "Fivethirtyeight continuously updated their predictions as more polling data became available for each of the races.  Let's focus on the predictions a few months before the election, on August 11th, and on the morning of election day, November 6th.  "
   ]
  },
  {
   "cell_type": "markdown",
   "metadata": {
    "deletable": false,
    "editable": false
   },
   "source": [
    "### Question 1a: Subset Data\n",
    "\n",
    "<!--\n",
    "BEGIN QUESTION\n",
    "name: q1a\n",
    "manual: false\n",
    "points: 5\n",
    "-->\n",
    "\n",
    "Create a new pandas dataframe called `election_sub` by filtering to include only rows in which the `forecast_type` is \"classic\", and the date of the foreceast (`forecast_date`) is 8/11 or 11/6. \n",
    "\n",
    "Using `query` method seems well-suited.  Note you can make two (or more) calls to `query` by chaining calls to `query` like this: `election_data.query(...).query(...)`. Output of one query will be used as an input to the second query."
   ]
  },
  {
   "cell_type": "code",
   "execution_count": 6,
   "metadata": {},
   "outputs": [],
   "source": [
    "# Fill-in ...\n",
    "election_sub = election_data.query(\"forecast_type == 'classic'\").query(\"forecast_date == '2018-08-11' | forecast_date == '2018-11-06'\")\n"
   ]
  },
  {
   "cell_type": "code",
   "execution_count": 7,
   "metadata": {
    "deletable": false,
    "editable": false
   },
   "outputs": [
    {
     "data": {
      "text/html": [
       "\n",
       "    <p><strong>q1a</strong> passed!</p>\n",
       "    "
      ],
      "text/plain": [
       "q1a passed!"
      ]
     },
     "execution_count": 7,
     "metadata": {},
     "output_type": "execute_result"
    }
   ],
   "source": [
    "grader.check(\"q1a\")"
   ]
  },
  {
   "cell_type": "markdown",
   "metadata": {
    "deletable": false,
    "editable": false
   },
   "source": [
    "### Question 1b: Filtering Data\n",
    "\n",
    "In previous question, data was subset for two forcast dates: 2018-11-06 and 2018-08-11. Presumably, there _should be_ two rows (predictions) for each candidate; however, you will see that some candidates are missing one of the two predictions and not all name entries are valid.\n",
    "\n",
    "Using Pandas, remove any NaN names and any candidate that does not have two predictions.\n",
    "\n",
    "Finally, overwrite `election_sub` with the filtered data.\n",
    "\n",
    "There are different ways of doing this. I found the following functions useful:\n",
    "\n",
    "* [`pandas.DataFrame.isnull`](https://pandas.pydata.org/pandas-docs/stable/reference/api/pandas.DataFrame.isnull.html)\n",
    "* [`pandas.DataFrame.groupby`](https://pandas.pydata.org/pandas-docs/stable/reference/api/pandas.DataFrame.groupby.html)\n",
    "* [`pandas.core.groupby.DataFrameGroupBy.filter`](https://pandas.pydata.org/pandas-docs/stable/reference/api/pandas.core.groupby.DataFrameGroupBy.filter.html)\n",
    "* [`pandas.DataFrame.shape`](https://pandas.pydata.org/pandas-docs/stable/reference/api/pandas.DataFrame.shape.html)\n",
    "\n",
    "When using the documentation, make sure to use the correct version. You can check by running `pd.__version__`.\n",
    "\n",
    "<!--\n",
    "BEGIN QUESTION\n",
    "name: q1b\n",
    "manual: false\n",
    "points: 3\n",
    "-->"
   ]
  },
  {
   "cell_type": "code",
   "execution_count": 8,
   "metadata": {},
   "outputs": [
    {
     "data": {
      "text/html": [
       "<div>\n",
       "<style scoped>\n",
       "    .dataframe tbody tr th:only-of-type {\n",
       "        vertical-align: middle;\n",
       "    }\n",
       "\n",
       "    .dataframe tbody tr th {\n",
       "        vertical-align: top;\n",
       "    }\n",
       "\n",
       "    .dataframe thead th {\n",
       "        text-align: right;\n",
       "    }\n",
       "</style>\n",
       "<table border=\"1\" class=\"dataframe\">\n",
       "  <thead>\n",
       "    <tr style=\"text-align: right;\">\n",
       "      <th></th>\n",
       "      <th>year</th>\n",
       "      <th>office</th>\n",
       "      <th>state</th>\n",
       "      <th>district</th>\n",
       "      <th>special</th>\n",
       "      <th>election_date</th>\n",
       "      <th>forecast_date</th>\n",
       "      <th>forecast_type</th>\n",
       "      <th>party</th>\n",
       "      <th>candidate</th>\n",
       "      <th>projected_voteshare</th>\n",
       "      <th>actual_voteshare</th>\n",
       "      <th>probwin</th>\n",
       "      <th>probwin_outcome</th>\n",
       "      <th>bin</th>\n",
       "    </tr>\n",
       "  </thead>\n",
       "  <tbody>\n",
       "    <tr>\n",
       "      <th>4</th>\n",
       "      <td>2018</td>\n",
       "      <td>House</td>\n",
       "      <td>WY</td>\n",
       "      <td>1.0</td>\n",
       "      <td>False</td>\n",
       "      <td>2018-11-06</td>\n",
       "      <td>2018-11-06</td>\n",
       "      <td>classic</td>\n",
       "      <td>D</td>\n",
       "      <td>Greg Hunter</td>\n",
       "      <td>31.33293</td>\n",
       "      <td>NaN</td>\n",
       "      <td>0.00032</td>\n",
       "      <td>0</td>\n",
       "      <td>0</td>\n",
       "    </tr>\n",
       "    <tr>\n",
       "      <th>5</th>\n",
       "      <td>2018</td>\n",
       "      <td>House</td>\n",
       "      <td>WY</td>\n",
       "      <td>1.0</td>\n",
       "      <td>False</td>\n",
       "      <td>2018-11-06</td>\n",
       "      <td>2018-11-06</td>\n",
       "      <td>classic</td>\n",
       "      <td>R</td>\n",
       "      <td>Liz Cheney</td>\n",
       "      <td>63.15379</td>\n",
       "      <td>NaN</td>\n",
       "      <td>0.99968</td>\n",
       "      <td>1</td>\n",
       "      <td>0</td>\n",
       "    </tr>\n",
       "    <tr>\n",
       "      <th>10</th>\n",
       "      <td>2018</td>\n",
       "      <td>House</td>\n",
       "      <td>WV</td>\n",
       "      <td>3.0</td>\n",
       "      <td>False</td>\n",
       "      <td>2018-11-06</td>\n",
       "      <td>2018-11-06</td>\n",
       "      <td>classic</td>\n",
       "      <td>D</td>\n",
       "      <td>Richard Neece Ojeda</td>\n",
       "      <td>44.29584</td>\n",
       "      <td>NaN</td>\n",
       "      <td>0.07366</td>\n",
       "      <td>0</td>\n",
       "      <td>0</td>\n",
       "    </tr>\n",
       "    <tr>\n",
       "      <th>11</th>\n",
       "      <td>2018</td>\n",
       "      <td>House</td>\n",
       "      <td>WV</td>\n",
       "      <td>3.0</td>\n",
       "      <td>False</td>\n",
       "      <td>2018-11-06</td>\n",
       "      <td>2018-11-06</td>\n",
       "      <td>classic</td>\n",
       "      <td>R</td>\n",
       "      <td>Carol Devine Miller</td>\n",
       "      <td>55.70416</td>\n",
       "      <td>NaN</td>\n",
       "      <td>0.92634</td>\n",
       "      <td>1</td>\n",
       "      <td>0</td>\n",
       "    </tr>\n",
       "    <tr>\n",
       "      <th>18</th>\n",
       "      <td>2018</td>\n",
       "      <td>House</td>\n",
       "      <td>WV</td>\n",
       "      <td>2.0</td>\n",
       "      <td>False</td>\n",
       "      <td>2018-11-06</td>\n",
       "      <td>2018-11-06</td>\n",
       "      <td>classic</td>\n",
       "      <td>D</td>\n",
       "      <td>Talley Sergent</td>\n",
       "      <td>43.09996</td>\n",
       "      <td>NaN</td>\n",
       "      <td>0.06562</td>\n",
       "      <td>0</td>\n",
       "      <td>0</td>\n",
       "    </tr>\n",
       "    <tr>\n",
       "      <th>...</th>\n",
       "      <td>...</td>\n",
       "      <td>...</td>\n",
       "      <td>...</td>\n",
       "      <td>...</td>\n",
       "      <td>...</td>\n",
       "      <td>...</td>\n",
       "      <td>...</td>\n",
       "      <td>...</td>\n",
       "      <td>...</td>\n",
       "      <td>...</td>\n",
       "      <td>...</td>\n",
       "      <td>...</td>\n",
       "      <td>...</td>\n",
       "      <td>...</td>\n",
       "      <td>...</td>\n",
       "    </tr>\n",
       "    <tr>\n",
       "      <th>253856</th>\n",
       "      <td>2018</td>\n",
       "      <td>House</td>\n",
       "      <td>AL</td>\n",
       "      <td>1.0</td>\n",
       "      <td>False</td>\n",
       "      <td>2018-11-06</td>\n",
       "      <td>2018-08-11</td>\n",
       "      <td>classic</td>\n",
       "      <td>R</td>\n",
       "      <td>Bradley Byrne</td>\n",
       "      <td>65.12249</td>\n",
       "      <td>NaN</td>\n",
       "      <td>0.99954</td>\n",
       "      <td>1</td>\n",
       "      <td>0</td>\n",
       "    </tr>\n",
       "    <tr>\n",
       "      <th>253861</th>\n",
       "      <td>2018</td>\n",
       "      <td>House</td>\n",
       "      <td>AK</td>\n",
       "      <td>1.0</td>\n",
       "      <td>False</td>\n",
       "      <td>2018-11-06</td>\n",
       "      <td>2018-08-11</td>\n",
       "      <td>classic</td>\n",
       "      <td>D</td>\n",
       "      <td>Alyse S. Galvin</td>\n",
       "      <td>43.98304</td>\n",
       "      <td>NaN</td>\n",
       "      <td>0.27064</td>\n",
       "      <td>0</td>\n",
       "      <td>0</td>\n",
       "    </tr>\n",
       "    <tr>\n",
       "      <th>253862</th>\n",
       "      <td>2018</td>\n",
       "      <td>House</td>\n",
       "      <td>AK</td>\n",
       "      <td>1.0</td>\n",
       "      <td>False</td>\n",
       "      <td>2018-11-06</td>\n",
       "      <td>2018-08-11</td>\n",
       "      <td>classic</td>\n",
       "      <td>R</td>\n",
       "      <td>Don Young</td>\n",
       "      <td>49.43467</td>\n",
       "      <td>NaN</td>\n",
       "      <td>0.72936</td>\n",
       "      <td>1</td>\n",
       "      <td>0</td>\n",
       "    </tr>\n",
       "    <tr>\n",
       "      <th>282697</th>\n",
       "      <td>2018</td>\n",
       "      <td>House</td>\n",
       "      <td>US</td>\n",
       "      <td>NaN</td>\n",
       "      <td>NaN</td>\n",
       "      <td>2018-11-06</td>\n",
       "      <td>2018-11-06</td>\n",
       "      <td>classic</td>\n",
       "      <td>D</td>\n",
       "      <td>NaN</td>\n",
       "      <td>NaN</td>\n",
       "      <td>NaN</td>\n",
       "      <td>0.87916</td>\n",
       "      <td>1</td>\n",
       "      <td>0</td>\n",
       "    </tr>\n",
       "    <tr>\n",
       "      <th>282698</th>\n",
       "      <td>2018</td>\n",
       "      <td>House</td>\n",
       "      <td>US</td>\n",
       "      <td>NaN</td>\n",
       "      <td>NaN</td>\n",
       "      <td>2018-11-06</td>\n",
       "      <td>2018-11-06</td>\n",
       "      <td>classic</td>\n",
       "      <td>R</td>\n",
       "      <td>NaN</td>\n",
       "      <td>NaN</td>\n",
       "      <td>NaN</td>\n",
       "      <td>0.12084</td>\n",
       "      <td>0</td>\n",
       "      <td>0</td>\n",
       "    </tr>\n",
       "  </tbody>\n",
       "</table>\n",
       "<p>1930 rows × 15 columns</p>\n",
       "</div>"
      ],
      "text/plain": [
       "        year office state  district special election_date forecast_date  \\\n",
       "4       2018  House    WY       1.0   False    2018-11-06    2018-11-06   \n",
       "5       2018  House    WY       1.0   False    2018-11-06    2018-11-06   \n",
       "10      2018  House    WV       3.0   False    2018-11-06    2018-11-06   \n",
       "11      2018  House    WV       3.0   False    2018-11-06    2018-11-06   \n",
       "18      2018  House    WV       2.0   False    2018-11-06    2018-11-06   \n",
       "...      ...    ...   ...       ...     ...           ...           ...   \n",
       "253856  2018  House    AL       1.0   False    2018-11-06    2018-08-11   \n",
       "253861  2018  House    AK       1.0   False    2018-11-06    2018-08-11   \n",
       "253862  2018  House    AK       1.0   False    2018-11-06    2018-08-11   \n",
       "282697  2018  House    US       NaN     NaN    2018-11-06    2018-11-06   \n",
       "282698  2018  House    US       NaN     NaN    2018-11-06    2018-11-06   \n",
       "\n",
       "       forecast_type party            candidate  projected_voteshare  \\\n",
       "4            classic     D          Greg Hunter             31.33293   \n",
       "5            classic     R           Liz Cheney             63.15379   \n",
       "10           classic     D  Richard Neece Ojeda             44.29584   \n",
       "11           classic     R  Carol Devine Miller             55.70416   \n",
       "18           classic     D       Talley Sergent             43.09996   \n",
       "...              ...   ...                  ...                  ...   \n",
       "253856       classic     R        Bradley Byrne             65.12249   \n",
       "253861       classic     D      Alyse S. Galvin             43.98304   \n",
       "253862       classic     R            Don Young             49.43467   \n",
       "282697       classic     D                  NaN                  NaN   \n",
       "282698       classic     R                  NaN                  NaN   \n",
       "\n",
       "        actual_voteshare  probwin  probwin_outcome  bin  \n",
       "4                    NaN  0.00032                0    0  \n",
       "5                    NaN  0.99968                1    0  \n",
       "10                   NaN  0.07366                0    0  \n",
       "11                   NaN  0.92634                1    0  \n",
       "18                   NaN  0.06562                0    0  \n",
       "...                  ...      ...              ...  ...  \n",
       "253856               NaN  0.99954                1    0  \n",
       "253861               NaN  0.27064                0    0  \n",
       "253862               NaN  0.72936                1    0  \n",
       "282697               NaN  0.87916                1    0  \n",
       "282698               NaN  0.12084                0    0  \n",
       "\n",
       "[1930 rows x 15 columns]"
      ]
     },
     "execution_count": 8,
     "metadata": {},
     "output_type": "execute_result"
    }
   ],
   "source": [
    "election_sub"
   ]
  },
  {
   "cell_type": "code",
   "execution_count": 9,
   "metadata": {},
   "outputs": [],
   "source": [
    "# Fill-in ... and ###some task###\n",
    "# ~ means 'is not', so in this case is not null\n",
    "election_sub = election_sub[~election_sub['candidate'].isnull()].groupby('candidate').filter(lambda x : x.shape[0] == 2)\n"
   ]
  },
  {
   "cell_type": "code",
   "execution_count": 10,
   "metadata": {
    "deletable": false,
    "editable": false
   },
   "outputs": [
    {
     "data": {
      "text/html": [
       "\n",
       "    <p><strong>q1b</strong> passed!</p>\n",
       "    "
      ],
      "text/plain": [
       "q1b passed!"
      ]
     },
     "execution_count": 10,
     "metadata": {},
     "output_type": "execute_result"
    }
   ],
   "source": [
    "grader.check(\"q1b\")"
   ]
  },
  {
   "cell_type": "markdown",
   "metadata": {
    "deletable": false,
    "editable": false
   },
   "source": [
    "### Question 1c: Transform Data\n",
    "\n",
    "<!--\n",
    "BEGIN QUESTION\n",
    "name: q1c\n",
    "manual: false\n",
    "points: 3\n",
    "-->\n",
    "\n",
    "We want to check whether events predicted by 538 to occur with probability _close to_ X% actually occured about X% of the time.  To do this, we have to define _close_.\n",
    "\n",
    "First, we'll define the `cut_points` as 20 equally spaced numbers between 0 and 1 using `np.linspace`.  Then we'll group the predicted probabilities into the `19` equally spaced bins determined by those cut points.  Define the bin for each observation using the `pd.cut` function on the `probwin` variable.  Then, assign the result to column `bin` of `election_sub`. Use `include_lowest=True` when calling `pd.cut`.\n",
    "\n",
    "_Note: Can you spot the strange behavior of `include_lowest=True`? [Despite the output, `pd.cut` seems to work correctly](https://github.com/pandas-dev/pandas/issues/23164#issuecomment-510700455)_"
   ]
  },
  {
   "cell_type": "code",
   "execution_count": 11,
   "metadata": {},
   "outputs": [],
   "source": [
    "cut_points = np.linspace(0,1,num=20) \n",
    "election_sub['bin']= pd.cut(election_sub['probwin'], bins = cut_points, include_lowest=True)"
   ]
  },
  {
   "cell_type": "code",
   "execution_count": 12,
   "metadata": {
    "deletable": false,
    "editable": false
   },
   "outputs": [
    {
     "data": {
      "text/html": [
       "\n",
       "    <p><strong>q1c</strong> passed!</p>\n",
       "    "
      ],
      "text/plain": [
       "q1c passed!"
      ]
     },
     "execution_count": 12,
     "metadata": {},
     "output_type": "execute_result"
    }
   ],
   "source": [
    "grader.check(\"q1c\")"
   ]
  },
  {
   "cell_type": "markdown",
   "metadata": {},
   "source": [
    "## Question 2: Looking for Insights"
   ]
  },
  {
   "cell_type": "markdown",
   "metadata": {
    "deletable": false,
    "editable": false
   },
   "source": [
    "### Question 2a: Calculate Change in Support\n",
    "\n",
    "Let's see if we can find the candidates whose standings change the most between August 11 and November 6: one with largest improvement and another with largest decrease in win-probability. First, use the `agg` function calculate the difference.\n",
    "\n",
    "Following functions have been useful for me:\n",
    "\n",
    "* [`numpy.diff`](https://docs.scipy.org/doc/numpy/reference/generated/numpy.diff.html)\n",
    "* [`pandas.DataFrame.sort_values`](https://pandas.pydata.org/pandas-docs/stable/reference/api/pandas.DataFrame.sort_values.html)\n",
    "* [`pandas.DataFrame.groupby`](https://pandas.pydata.org/pandas-docs/stable/reference/api/pandas.DataFrame.groupby.html)\n",
    "* [`pandas.DataFrame.agg`](https://pandas.pydata.org/pandas-docs/stable/reference/api/pandas.DataFrame.agg.html): especially, [different functions to columns](https://pandas.pydata.org/pandas-docs/stable/user_guide/groupby.html#applying-different-functions-to-dataframe-columns) \n",
    "\n",
    "Save the resulting DataFrame from `agg()` to a variable, `probwin_change`. \n",
    "\n",
    "<!--\n",
    "BEGIN QUESTION\n",
    "name: q2a\n",
    "manual: false\n",
    "points: 5\n",
    "-->"
   ]
  },
  {
   "cell_type": "code",
   "execution_count": 13,
   "metadata": {},
   "outputs": [],
   "source": [
    "probwin_change = election_sub.sort_values(by = ['forecast_date']).groupby('candidate').agg({'probwin' : np.diff })"
   ]
  },
  {
   "cell_type": "code",
   "execution_count": 14,
   "metadata": {
    "deletable": false,
    "editable": false
   },
   "outputs": [
    {
     "data": {
      "text/html": [
       "\n",
       "    <p><strong>q2a</strong> passed!</p>\n",
       "    "
      ],
      "text/plain": [
       "q2a passed!"
      ]
     },
     "execution_count": 14,
     "metadata": {},
     "output_type": "execute_result"
    }
   ],
   "source": [
    "grader.check(\"q2a\")"
   ]
  },
  {
   "cell_type": "markdown",
   "metadata": {
    "deletable": false,
    "editable": false
   },
   "source": [
    "### Question 2b: Looking for Largest Changes\n",
    "\n",
    "Now, save the name of the candidates to string variables `rising_candidate` (largest increase) and `falling_candidate` (largest decrease).\n",
    "\n",
    "* [`pandas.DataFrmae.idxmax`](https://pandas.pydata.org/pandas-docs/stable/reference/api/pandas.DataFrame.idxmax.html)\n",
    "* [`pandas.DataFrmae.idxmin`](https://pandas.pydata.org/pandas-docs/stable/reference/api/pandas.DataFrame.idxmin.html)\n",
    "\n",
    "<!--\n",
    "BEGIN QUESTION\n",
    "name: q2b\n",
    "manual: false\n",
    "points: 3\n",
    "-->"
   ]
  },
  {
   "cell_type": "code",
   "execution_count": 15,
   "metadata": {},
   "outputs": [
    {
     "name": "stdout",
     "output_type": "stream",
     "text": [
      "Sharice Davids\n",
      "Kevin Yoder\n"
     ]
    }
   ],
   "source": [
    "rising_candidate = probwin_change.idxmax().values[0]\n",
    "falling_candidate = probwin_change.idxmin().values[0]\n",
    "print(rising_candidate)\n",
    "print(falling_candidate)"
   ]
  },
  {
   "cell_type": "code",
   "execution_count": 16,
   "metadata": {
    "deletable": false,
    "editable": false
   },
   "outputs": [
    {
     "data": {
      "text/html": [
       "\n",
       "    <p><strong>q2b</strong> passed!</p>\n",
       "    "
      ],
      "text/plain": [
       "q2b passed!"
      ]
     },
     "execution_count": 16,
     "metadata": {},
     "output_type": "execute_result"
    }
   ],
   "source": [
    "grader.check(\"q2b\")"
   ]
  },
  {
   "cell_type": "markdown",
   "metadata": {
    "deletable": false,
    "editable": false
   },
   "source": [
    "<!-- BEGIN QUESTION -->\n",
    "\n",
    "### Question 2c: Verify Outcome\n",
    "\n",
    "Did the candidate win or lose the election? Verify with election outcome.\n",
    "<!--\n",
    "BEGIN QUESTION\n",
    "name: q2c\n",
    "manual: true\n",
    "points: 5\n",
    "-->"
   ]
  },
  {
   "cell_type": "code",
   "execution_count": 17,
   "metadata": {},
   "outputs": [
    {
     "data": {
      "text/html": [
       "<div>\n",
       "<style scoped>\n",
       "    .dataframe tbody tr th:only-of-type {\n",
       "        vertical-align: middle;\n",
       "    }\n",
       "\n",
       "    .dataframe tbody tr th {\n",
       "        vertical-align: top;\n",
       "    }\n",
       "\n",
       "    .dataframe thead th {\n",
       "        text-align: right;\n",
       "    }\n",
       "</style>\n",
       "<table border=\"1\" class=\"dataframe\">\n",
       "  <thead>\n",
       "    <tr style=\"text-align: right;\">\n",
       "      <th></th>\n",
       "      <th>year</th>\n",
       "      <th>office</th>\n",
       "      <th>state</th>\n",
       "      <th>district</th>\n",
       "      <th>special</th>\n",
       "      <th>election_date</th>\n",
       "      <th>forecast_date</th>\n",
       "      <th>forecast_type</th>\n",
       "      <th>party</th>\n",
       "      <th>candidate</th>\n",
       "      <th>projected_voteshare</th>\n",
       "      <th>actual_voteshare</th>\n",
       "      <th>probwin</th>\n",
       "      <th>probwin_outcome</th>\n",
       "      <th>bin</th>\n",
       "    </tr>\n",
       "  </thead>\n",
       "  <tbody>\n",
       "    <tr>\n",
       "      <th>1890</th>\n",
       "      <td>2018</td>\n",
       "      <td>House</td>\n",
       "      <td>KS</td>\n",
       "      <td>3.0</td>\n",
       "      <td>False</td>\n",
       "      <td>2018-11-06</td>\n",
       "      <td>2018-11-06</td>\n",
       "      <td>classic</td>\n",
       "      <td>D</td>\n",
       "      <td>Sharice Davids</td>\n",
       "      <td>51.85115</td>\n",
       "      <td>NaN</td>\n",
       "      <td>0.84994</td>\n",
       "      <td>1</td>\n",
       "      <td>(0.842, 0.895]</td>\n",
       "    </tr>\n",
       "    <tr>\n",
       "      <th>252855</th>\n",
       "      <td>2018</td>\n",
       "      <td>House</td>\n",
       "      <td>KS</td>\n",
       "      <td>3.0</td>\n",
       "      <td>False</td>\n",
       "      <td>2018-11-06</td>\n",
       "      <td>2018-08-11</td>\n",
       "      <td>classic</td>\n",
       "      <td>D</td>\n",
       "      <td>Sharice Davids</td>\n",
       "      <td>44.84660</td>\n",
       "      <td>NaN</td>\n",
       "      <td>0.19566</td>\n",
       "      <td>1</td>\n",
       "      <td>(0.158, 0.211]</td>\n",
       "    </tr>\n",
       "  </tbody>\n",
       "</table>\n",
       "</div>"
      ],
      "text/plain": [
       "        year office state  district special election_date forecast_date  \\\n",
       "1890    2018  House    KS       3.0   False    2018-11-06    2018-11-06   \n",
       "252855  2018  House    KS       3.0   False    2018-11-06    2018-08-11   \n",
       "\n",
       "       forecast_type party       candidate  projected_voteshare  \\\n",
       "1890         classic     D  Sharice Davids             51.85115   \n",
       "252855       classic     D  Sharice Davids             44.84660   \n",
       "\n",
       "        actual_voteshare  probwin  probwin_outcome             bin  \n",
       "1890                 NaN  0.84994                1  (0.842, 0.895]  \n",
       "252855               NaN  0.19566                1  (0.158, 0.211]  "
      ]
     },
     "execution_count": 17,
     "metadata": {},
     "output_type": "execute_result"
    }
   ],
   "source": [
    "election_sub[election_sub['candidate'] == (rising_candidate)]"
   ]
  },
  {
   "cell_type": "code",
   "execution_count": 18,
   "metadata": {},
   "outputs": [
    {
     "data": {
      "text/html": [
       "<div>\n",
       "<style scoped>\n",
       "    .dataframe tbody tr th:only-of-type {\n",
       "        vertical-align: middle;\n",
       "    }\n",
       "\n",
       "    .dataframe tbody tr th {\n",
       "        vertical-align: top;\n",
       "    }\n",
       "\n",
       "    .dataframe thead th {\n",
       "        text-align: right;\n",
       "    }\n",
       "</style>\n",
       "<table border=\"1\" class=\"dataframe\">\n",
       "  <thead>\n",
       "    <tr style=\"text-align: right;\">\n",
       "      <th></th>\n",
       "      <th>year</th>\n",
       "      <th>office</th>\n",
       "      <th>state</th>\n",
       "      <th>district</th>\n",
       "      <th>special</th>\n",
       "      <th>election_date</th>\n",
       "      <th>forecast_date</th>\n",
       "      <th>forecast_type</th>\n",
       "      <th>party</th>\n",
       "      <th>candidate</th>\n",
       "      <th>projected_voteshare</th>\n",
       "      <th>actual_voteshare</th>\n",
       "      <th>probwin</th>\n",
       "      <th>probwin_outcome</th>\n",
       "      <th>bin</th>\n",
       "    </tr>\n",
       "  </thead>\n",
       "  <tbody>\n",
       "    <tr>\n",
       "      <th>1892</th>\n",
       "      <td>2018</td>\n",
       "      <td>House</td>\n",
       "      <td>KS</td>\n",
       "      <td>3.0</td>\n",
       "      <td>False</td>\n",
       "      <td>2018-11-06</td>\n",
       "      <td>2018-11-06</td>\n",
       "      <td>classic</td>\n",
       "      <td>R</td>\n",
       "      <td>Kevin Yoder</td>\n",
       "      <td>45.18069</td>\n",
       "      <td>NaN</td>\n",
       "      <td>0.15006</td>\n",
       "      <td>0</td>\n",
       "      <td>(0.105, 0.158]</td>\n",
       "    </tr>\n",
       "    <tr>\n",
       "      <th>252857</th>\n",
       "      <td>2018</td>\n",
       "      <td>House</td>\n",
       "      <td>KS</td>\n",
       "      <td>3.0</td>\n",
       "      <td>False</td>\n",
       "      <td>2018-11-06</td>\n",
       "      <td>2018-08-11</td>\n",
       "      <td>classic</td>\n",
       "      <td>R</td>\n",
       "      <td>Kevin Yoder</td>\n",
       "      <td>51.78531</td>\n",
       "      <td>NaN</td>\n",
       "      <td>0.80426</td>\n",
       "      <td>0</td>\n",
       "      <td>(0.789, 0.842]</td>\n",
       "    </tr>\n",
       "  </tbody>\n",
       "</table>\n",
       "</div>"
      ],
      "text/plain": [
       "        year office state  district special election_date forecast_date  \\\n",
       "1892    2018  House    KS       3.0   False    2018-11-06    2018-11-06   \n",
       "252857  2018  House    KS       3.0   False    2018-11-06    2018-08-11   \n",
       "\n",
       "       forecast_type party    candidate  projected_voteshare  \\\n",
       "1892         classic     R  Kevin Yoder             45.18069   \n",
       "252857       classic     R  Kevin Yoder             51.78531   \n",
       "\n",
       "        actual_voteshare  probwin  probwin_outcome             bin  \n",
       "1892                 NaN  0.15006                0  (0.105, 0.158]  \n",
       "252857               NaN  0.80426                0  (0.789, 0.842]  "
      ]
     },
     "execution_count": 18,
     "metadata": {},
     "output_type": "execute_result"
    }
   ],
   "source": [
    "election_sub[election_sub['candidate'] == (falling_candidate)]"
   ]
  },
  {
   "cell_type": "markdown",
   "metadata": {},
   "source": [
    "The rising candidate, Sharice Davids, won the election.\n",
    "The falling candidate, Kevin Yoder, lost the election."
   ]
  },
  {
   "cell_type": "markdown",
   "metadata": {},
   "source": [
    "<!-- END QUESTION -->\n",
    "\n",
    "\n",
    "\n",
    "## Prediction vs Actual Outcomes"
   ]
  },
  {
   "cell_type": "markdown",
   "metadata": {
    "deletable": false,
    "editable": false
   },
   "source": [
    "<!-- BEGIN QUESTION -->\n",
    "\n",
    "### Question 3a: Prediction Histogram\n",
    "\n",
    "Make a histogram showing the predicted win probabilities _on the morning of the election._  Again, restrict yourself to only the `classic` predictions.\n",
    "\n",
    "<!--\n",
    "BEGIN QUESTION\n",
    "name: q3a\n",
    "manual: true\n",
    "points: 5\n",
    "-->"
   ]
  },
  {
   "cell_type": "code",
   "execution_count": 19,
   "metadata": {},
   "outputs": [
    {
     "data": {
      "image/png": "[encoded data removed]",
      "text/plain": [
       "<Figure size 432x288 with 1 Axes>"
      ]
     },
     "metadata": {
      "needs_background": "light"
     },
     "output_type": "display_data"
    }
   ],
   "source": [
    "import matplotlib.pyplot as plt\n",
    "\n",
    "election_sub.query('forecast_date == \"2018-11-06\"')['probwin'].plot.hist(grid =True, color = 'blue', edgecolor ='black', bins = 10)\n",
    "\n",
    "plt.title('Predicted win probabilities on the Morning of Election')\n",
    "plt.xlabel('Probability of winning')\n",
    "plt.ylabel('Counts')\n",
    "plt.show()"
   ]
  },
  {
   "cell_type": "markdown",
   "metadata": {
    "deletable": false,
    "editable": false
   },
   "source": [
    "<!-- END QUESTION -->\n",
    "\n",
    "<!-- BEGIN QUESTION -->\n",
    "\n",
    "### Question 3b: Prediction difficulty \n",
    "\n",
    "Are most house elections easy to forecast or hard to forecast? State your reasoning.\n",
    "\n",
    "<!--\n",
    "BEGIN QUESTION\n",
    "name: q3b\n",
    "manual: true\n",
    "points: 5\n",
    "-->"
   ]
  },
  {
   "cell_type": "markdown",
   "metadata": {},
   "source": [
    "Yes, most house elections are easy to forecast. Looking at the histogram above, most candidates have a very high probability of being close to one or close to zero. So either the candidates have a very high likelihood of winning or a very high likelihood of losing."
   ]
  },
  {
   "cell_type": "markdown",
   "metadata": {
    "deletable": false,
    "editable": false
   },
   "source": [
    "<!-- END QUESTION -->\n",
    "\n",
    "### Question 4a: Compute Actual Outcomes\n",
    "\n",
    "Now we've grouped the observations into a discrete set of bins according to the predicted probability, `probwin`.  Within each bin, we now want to compute the actual fraction of times the candidates won.\n",
    "\n",
    "If 538 did a good job, it will be close to the predited probabilities.  You'll need to use the `groupby` function to compute the mean of `probwin_outcome` (1 is a win and 0 is a loss) within each bin. Once again you can use `agg` method here.  \n",
    "\n",
    "Save the fraction of actual wins in each bin in a list called `fraction_outcome`.\n",
    "\n",
    "<!--\n",
    "BEGIN QUESTION\n",
    "name: q4a\n",
    "manual: false\n",
    "points: 5\n",
    "-->"
   ]
  },
  {
   "cell_type": "code",
   "execution_count": 20,
   "metadata": {},
   "outputs": [],
   "source": [
    "fraction_outcome = election_sub.groupby('bin').agg({'probwin_outcome': np.mean})"
   ]
  },
  {
   "cell_type": "code",
   "execution_count": 21,
   "metadata": {
    "deletable": false,
    "editable": false
   },
   "outputs": [
    {
     "data": {
      "text/html": [
       "\n",
       "    <p><strong>q4a</strong> passed!</p>\n",
       "    "
      ],
      "text/plain": [
       "q4a passed!"
      ]
     },
     "execution_count": 21,
     "metadata": {},
     "output_type": "execute_result"
    }
   ],
   "source": [
    "grader.check(\"q4a\")"
   ]
  },
  {
   "cell_type": "markdown",
   "metadata": {
    "deletable": false,
    "editable": false
   },
   "source": [
    "### Question 4b: Preparing to Present Results\n",
    "\n",
    "<!--\n",
    "BEGIN QUESTION\n",
    "name: q4b\n",
    "manual: false\n",
    "points: 5\n",
    "-->\n",
    "\n",
    "For this problem we'll make a plot of the predicted probabilities and actual fraction of wins in each bin.  We've already computed the actual fraction of wins; all that remains is to plot it against the predicted value assocaited with each bin.\n",
    "\n",
    "For the predicted value in each bin, using the midpoint of the bin would make sense.  Compute the midpoints of each bin from `cut_points`."
   ]
  },
  {
   "cell_type": "code",
   "execution_count": 22,
   "metadata": {},
   "outputs": [],
   "source": [
    "midpoints = (cut_points[1:] + cut_points[:-1]) / 2"
   ]
  },
  {
   "cell_type": "code",
   "execution_count": 23,
   "metadata": {
    "deletable": false,
    "editable": false
   },
   "outputs": [
    {
     "data": {
      "text/html": [
       "\n",
       "    <p><strong>q4b</strong> passed!</p>\n",
       "    "
      ],
      "text/plain": [
       "q4b passed!"
      ]
     },
     "execution_count": 23,
     "metadata": {},
     "output_type": "execute_result"
    }
   ],
   "source": [
    "grader.check(\"q4b\")"
   ]
  },
  {
   "cell_type": "markdown",
   "metadata": {
    "deletable": false,
    "editable": false
   },
   "source": [
    "<!-- BEGIN QUESTION -->\n",
    "\n",
    "### Question 4c: Visualize Results\n",
    "\n",
    "<!--\n",
    "BEGIN QUESTION\n",
    "name: q4c\n",
    "manual: true \n",
    "points: 5\n",
    "-->\n",
    "\n",
    "Now make a scatterplot using `midpoints` as the x variable and `fraction_outcome` as the y variable.  Draw a dashed line from `[0,0]` to `[1,1]` to mark the line y=x.  "
   ]
  },
  {
   "cell_type": "code",
   "execution_count": 24,
   "metadata": {},
   "outputs": [
    {
     "data": {
      "image/png": "[encoded data removed]",
      "text/plain": [
       "<Figure size 432x288 with 1 Axes>"
      ]
     },
     "metadata": {
      "needs_background": "light"
     },
     "output_type": "display_data"
    }
   ],
   "source": [
    "# magic for showing figures inline\n",
    "%matplotlib inline \n",
    "import matplotlib.pyplot as plt\n",
    "\n",
    "plt.scatter( x=midpoints, y = fraction_outcome, color = 'black')\n",
    "\n",
    "point1 = [0,0]\n",
    "point2 = [1,1]\n",
    "xval = [point1[0],point2[0]]\n",
    "yval = [point1[1],point2[1]]\n",
    "\n",
    "plt.plot( xval, yval, linestyle = 'dashed', color = 'red')\n",
    "plt.xlabel('midpoints')\n",
    "plt.ylabel('fraction_outcome')\n",
    "plt.grid(axis = 'y')"
   ]
  },
  {
   "cell_type": "markdown",
   "metadata": {},
   "source": [
    "<!-- END QUESTION -->\n",
    "\n",
    "\n",
    "\n",
    "## Quantifying Uncertainty"
   ]
  },
  {
   "cell_type": "markdown",
   "metadata": {
    "deletable": false,
    "editable": false
   },
   "source": [
    "### Question 5a: Model-based Error Estimation\n",
    "\n",
    "If you did things correctly, it should look like fivethirtyeight has done \"pretty\" well with their forecasts: the actual fraction of wins tracks closely with the predicted number.\n",
    "\n",
    "But how do we decide what's \"good enough\"? Consider this example: I correctly predict that a coin is fair (e.g. that it has a 50% chance of heads, 50% chance of tails).  But if I flip it 100 times, I can be pretty sure it won't come up heads exactly 50 times.  The fact that heads didn't come up exactly 50 times doesn't make my prediction incorrect.\n",
    "\n",
    "To assess how reasonable the predictions are, I need to quantify the uncertainty in my estimate.  It's reasonable to assume that within each bin, $k$, the observed number of wins, $Y_k \\sim \\text{Binomial}\\,(n_k, p_k)$, where $n_k$ is the number of elections and $p_k$ is the predicted win probability in bin $k$.\n",
    "\n",
    "Classical results tell us that the obseved fraction of wins in bin $k$, $\\hat p = \\frac{Y_k}{n_k}$ has variance Var$\\left(\\hat p_k\\right) = \\frac{p_k (1-p_k)}{n_k} \\approx \\frac{\\hat p_k(1- \\hat p_k)}{n_k}$.  The standard deviation of the Binomial proportion then is $\\hat \\sigma_k \\approx \\sqrt{\\frac{\\hat p_k(1- \\hat p_k)}{n_k}}$.  \n",
    "\n",
    "If we use the [normal approximation to generate a confidence interval](https://en.wikipedia.org/wiki/Binomial_proportion_confidence_interval#Normal_approximation_interval), then the 95% interval has the form $\\hat p_k \\pm 1.96 \\hat \\sigma_k$.\n",
    "\n",
    "Create a new \"aggregated\" dataframe named `election_agg`.  Take `election_sub`, group by `bin` and compute both the average of the `probwin_outcome` (`mean`) and the number of observations in each bin (`count`) using the `agg` function.  Call this new data frame, `election_agg`.\n",
    "\n",
    "THen, use the `mean` and `count` columns of `election_agg` to create a new column of `election_agg` titled `err`, which stores $1.96 \\times \\hat \\sigma_k$ in each bin $k$.\n",
    "\n",
    "<!--\n",
    "BEGIN QUESTION\n",
    "name: q5a\n",
    "manual: false\n",
    "points: 3\n",
    "-->"
   ]
  },
  {
   "cell_type": "code",
   "execution_count": 25,
   "metadata": {},
   "outputs": [
    {
     "data": {
      "text/html": [
       "<div>\n",
       "<style scoped>\n",
       "    .dataframe tbody tr th:only-of-type {\n",
       "        vertical-align: middle;\n",
       "    }\n",
       "\n",
       "    .dataframe tbody tr th {\n",
       "        vertical-align: top;\n",
       "    }\n",
       "\n",
       "    .dataframe thead th {\n",
       "        text-align: right;\n",
       "    }\n",
       "</style>\n",
       "<table border=\"1\" class=\"dataframe\">\n",
       "  <thead>\n",
       "    <tr style=\"text-align: right;\">\n",
       "      <th></th>\n",
       "      <th>mean</th>\n",
       "      <th>count</th>\n",
       "      <th>err</th>\n",
       "    </tr>\n",
       "    <tr>\n",
       "      <th>bin</th>\n",
       "      <th></th>\n",
       "      <th></th>\n",
       "      <th></th>\n",
       "    </tr>\n",
       "  </thead>\n",
       "  <tbody>\n",
       "    <tr>\n",
       "      <th>(-0.001, 0.0526]</th>\n",
       "      <td>0.001186</td>\n",
       "      <td>843</td>\n",
       "      <td>0.002324</td>\n",
       "    </tr>\n",
       "    <tr>\n",
       "      <th>(0.0526, 0.105]</th>\n",
       "      <td>0.062500</td>\n",
       "      <td>32</td>\n",
       "      <td>0.083870</td>\n",
       "    </tr>\n",
       "    <tr>\n",
       "      <th>(0.105, 0.158]</th>\n",
       "      <td>0.023810</td>\n",
       "      <td>42</td>\n",
       "      <td>0.046108</td>\n",
       "    </tr>\n",
       "    <tr>\n",
       "      <th>(0.158, 0.211]</th>\n",
       "      <td>0.142857</td>\n",
       "      <td>28</td>\n",
       "      <td>0.129615</td>\n",
       "    </tr>\n",
       "    <tr>\n",
       "      <th>(0.211, 0.263]</th>\n",
       "      <td>0.200000</td>\n",
       "      <td>30</td>\n",
       "      <td>0.143138</td>\n",
       "    </tr>\n",
       "    <tr>\n",
       "      <th>(0.263, 0.316]</th>\n",
       "      <td>0.058824</td>\n",
       "      <td>17</td>\n",
       "      <td>0.111852</td>\n",
       "    </tr>\n",
       "    <tr>\n",
       "      <th>(0.316, 0.368]</th>\n",
       "      <td>0.235294</td>\n",
       "      <td>17</td>\n",
       "      <td>0.201644</td>\n",
       "    </tr>\n",
       "    <tr>\n",
       "      <th>(0.368, 0.421]</th>\n",
       "      <td>0.272727</td>\n",
       "      <td>22</td>\n",
       "      <td>0.186105</td>\n",
       "    </tr>\n",
       "    <tr>\n",
       "      <th>(0.421, 0.474]</th>\n",
       "      <td>0.466667</td>\n",
       "      <td>15</td>\n",
       "      <td>0.252472</td>\n",
       "    </tr>\n",
       "    <tr>\n",
       "      <th>(0.474, 0.526]</th>\n",
       "      <td>0.500000</td>\n",
       "      <td>16</td>\n",
       "      <td>0.245000</td>\n",
       "    </tr>\n",
       "    <tr>\n",
       "      <th>(0.526, 0.579]</th>\n",
       "      <td>0.533333</td>\n",
       "      <td>15</td>\n",
       "      <td>0.252472</td>\n",
       "    </tr>\n",
       "    <tr>\n",
       "      <th>(0.579, 0.632]</th>\n",
       "      <td>0.727273</td>\n",
       "      <td>22</td>\n",
       "      <td>0.186105</td>\n",
       "    </tr>\n",
       "    <tr>\n",
       "      <th>(0.632, 0.684]</th>\n",
       "      <td>0.764706</td>\n",
       "      <td>17</td>\n",
       "      <td>0.201644</td>\n",
       "    </tr>\n",
       "    <tr>\n",
       "      <th>(0.684, 0.737]</th>\n",
       "      <td>0.941176</td>\n",
       "      <td>17</td>\n",
       "      <td>0.111852</td>\n",
       "    </tr>\n",
       "    <tr>\n",
       "      <th>(0.737, 0.789]</th>\n",
       "      <td>0.800000</td>\n",
       "      <td>30</td>\n",
       "      <td>0.143138</td>\n",
       "    </tr>\n",
       "    <tr>\n",
       "      <th>(0.789, 0.842]</th>\n",
       "      <td>0.857143</td>\n",
       "      <td>28</td>\n",
       "      <td>0.129615</td>\n",
       "    </tr>\n",
       "    <tr>\n",
       "      <th>(0.842, 0.895]</th>\n",
       "      <td>0.976190</td>\n",
       "      <td>42</td>\n",
       "      <td>0.046108</td>\n",
       "    </tr>\n",
       "    <tr>\n",
       "      <th>(0.895, 0.947]</th>\n",
       "      <td>0.937500</td>\n",
       "      <td>32</td>\n",
       "      <td>0.083870</td>\n",
       "    </tr>\n",
       "    <tr>\n",
       "      <th>(0.947, 1.0]</th>\n",
       "      <td>0.998473</td>\n",
       "      <td>655</td>\n",
       "      <td>0.002990</td>\n",
       "    </tr>\n",
       "  </tbody>\n",
       "</table>\n",
       "</div>"
      ],
      "text/plain": [
       "                      mean  count       err\n",
       "bin                                        \n",
       "(-0.001, 0.0526]  0.001186    843  0.002324\n",
       "(0.0526, 0.105]   0.062500     32  0.083870\n",
       "(0.105, 0.158]    0.023810     42  0.046108\n",
       "(0.158, 0.211]    0.142857     28  0.129615\n",
       "(0.211, 0.263]    0.200000     30  0.143138\n",
       "(0.263, 0.316]    0.058824     17  0.111852\n",
       "(0.316, 0.368]    0.235294     17  0.201644\n",
       "(0.368, 0.421]    0.272727     22  0.186105\n",
       "(0.421, 0.474]    0.466667     15  0.252472\n",
       "(0.474, 0.526]    0.500000     16  0.245000\n",
       "(0.526, 0.579]    0.533333     15  0.252472\n",
       "(0.579, 0.632]    0.727273     22  0.186105\n",
       "(0.632, 0.684]    0.764706     17  0.201644\n",
       "(0.684, 0.737]    0.941176     17  0.111852\n",
       "(0.737, 0.789]    0.800000     30  0.143138\n",
       "(0.789, 0.842]    0.857143     28  0.129615\n",
       "(0.842, 0.895]    0.976190     42  0.046108\n",
       "(0.895, 0.947]    0.937500     32  0.083870\n",
       "(0.947, 1.0]      0.998473    655  0.002990"
      ]
     },
     "execution_count": 25,
     "metadata": {},
     "output_type": "execute_result"
    }
   ],
   "source": [
    "#election_agg = election_sub.groupby('bin').agg({'probwin_outcome': np.mean},{'bin' : np.count})\n",
    "election_agg = election_sub.groupby('bin').agg({'probwin_outcome': lambda x: x.mean(), 'bin': lambda x: x.count()}).rename(columns = {'probwin_outcome' : 'mean', 'bin': 'count'})\n",
    "election_agg['err'] = (1.96)*((election_agg['mean']*(1-election_agg['mean']))/election_agg['count'])**(1/2)\n",
    "election_agg"
   ]
  },
  {
   "cell_type": "code",
   "execution_count": 26,
   "metadata": {
    "deletable": false,
    "editable": false
   },
   "outputs": [
    {
     "data": {
      "text/html": [
       "\n",
       "    <p><strong>q5a</strong> passed!</p>\n",
       "    "
      ],
      "text/plain": [
       "q5a passed!"
      ]
     },
     "execution_count": 26,
     "metadata": {},
     "output_type": "execute_result"
    }
   ],
   "source": [
    "grader.check(\"q5a\")"
   ]
  },
  {
   "cell_type": "markdown",
   "metadata": {
    "deletable": false,
    "editable": false
   },
   "source": [
    "<!-- BEGIN QUESTION -->\n",
    "\n",
    "### Question 5b: Visualize Error Bars 1\n",
    "\n",
    "Use `plt.errorbar` to create a new plot with error bars associated with the actual fraction of wins in each bin.  Again add a dashed y=x line.  Set the argument `fmt='.'` to create a scatterplot with errorbars.\n",
    "\n",
    "<!--\n",
    "BEGIN QUESTION\n",
    "name: q5b\n",
    "manual: true\n",
    "points: 5\n",
    "-->"
   ]
  },
  {
   "cell_type": "code",
   "execution_count": 27,
   "metadata": {},
   "outputs": [
    {
     "data": {
      "image/png": "[encoded data removed]",
      "text/plain": [
       "<Figure size 432x288 with 1 Axes>"
      ]
     },
     "metadata": {
      "needs_background": "light"
     },
     "output_type": "display_data"
    }
   ],
   "source": [
    "# Plotting code below\n",
    "plt.errorbar(midpoints, election_agg['mean'].values, yerr = election_agg['err'].values, fmt = '.')\n",
    "plt.plot([0,1],[0,1],linestyle = 'dashed');"
   ]
  },
  {
   "cell_type": "markdown",
   "metadata": {
    "deletable": false,
    "editable": false
   },
   "source": [
    "<!-- END QUESTION -->\n",
    "\n",
    "### Question 5c: Computing Coverage\n",
    "\n",
    "If our intervals were true 95% confidence intervals, then we would expect about 95% of them to cover the midpoint of the bin (i.e. overlap with the y=x line).\n",
    "\n",
    "What fraction of the 95% confidence intervals cover the bin midpoint?  Create a variable, `upper`, to be the `mean` + `err` and another, `lower`, to be `mean` - `err` (both `upper` and `lower` should pandas series). Next, compute `frac_covering` as the fraction of midpoints between `lower` and `upper`. \n",
    "\n",
    "<!--\n",
    "BEGIN QUESTION\n",
    "name: q5c\n",
    "manual: false\n",
    "points: 5\n",
    "-->"
   ]
  },
  {
   "cell_type": "code",
   "execution_count": 28,
   "metadata": {},
   "outputs": [],
   "source": [
    "upper = election_agg['mean'] + election_agg['err']\n",
    "lower =  election_agg['mean'] - election_agg['err']\n",
    "\n",
    "frac_covering = (((lower <= midpoints) & (midpoints <= upper)).sum()) / len(midpoints)"
   ]
  },
  {
   "cell_type": "code",
   "execution_count": 29,
   "metadata": {
    "deletable": false,
    "editable": false
   },
   "outputs": [
    {
     "data": {
      "text/html": [
       "\n",
       "    <p><strong>q5c</strong> passed!</p>\n",
       "    "
      ],
      "text/plain": [
       "q5c passed!"
      ]
     },
     "execution_count": 29,
     "metadata": {},
     "output_type": "execute_result"
    }
   ],
   "source": [
    "grader.check(\"q5c\")"
   ]
  },
  {
   "cell_type": "markdown",
   "metadata": {
    "deletable": false,
    "editable": false
   },
   "source": [
    "<!-- BEGIN QUESTION -->\n",
    "\n",
    "### Question 5d: Understanding Confidence Intervals\n",
    "\n",
    "Are the 95% confidence intervals generally larger or smaller for more confident predictions (e.g. the predictions closer to 0 or 1).  What are the factors that determine the length of the confidence intervals?\n",
    "\n",
    "<!--\n",
    "BEGIN QUESTION\n",
    "name: q5d\n",
    "manual: true\n",
    "points: 5\n",
    "-->"
   ]
  },
  {
   "cell_type": "markdown",
   "metadata": {},
   "source": [
    "From what we have seen in class, we know that 95% confidence interverals are generally smaller for more confident predictions. Furthermore, we have seen that the factor that determines the length of confidence intervals is the variance of the estimator."
   ]
  },
  {
   "cell_type": "markdown",
   "metadata": {},
   "source": [
    "<!-- END QUESTION -->\n",
    "\n",
    "\n",
    "\n",
    "_Intentionally Blank_"
   ]
  },
  {
   "cell_type": "markdown",
   "metadata": {
    "deletable": false,
    "editable": false
   },
   "source": [
    "---\n",
    "\n",
    "To double-check your work, the cell below will rerun all of the autograder tests."
   ]
  },
  {
   "cell_type": "code",
   "execution_count": 30,
   "metadata": {
    "deletable": false,
    "editable": false
   },
   "outputs": [
    {
     "data": {
      "text/html": [
       "\n",
       "    <p><strong>q1a</strong> passed!</p>\n",
       "    \n",
       "\n",
       "\n",
       "    <p><strong>q1b</strong> passed!</p>\n",
       "    \n",
       "\n",
       "\n",
       "    <p><strong>q1c</strong> passed!</p>\n",
       "    \n",
       "\n",
       "\n",
       "    <p><strong>q2a</strong> passed!</p>\n",
       "    \n",
       "\n",
       "\n",
       "    <p><strong>q2b</strong> passed!</p>\n",
       "    \n",
       "\n",
       "\n",
       "    <p><strong>q4a</strong> passed!</p>\n",
       "    \n",
       "\n",
       "\n",
       "    <p><strong>q4b</strong> passed!</p>\n",
       "    \n",
       "\n",
       "\n",
       "    <p><strong>q5a</strong> passed!</p>\n",
       "    \n",
       "\n",
       "\n",
       "    <p><strong>q5c</strong> passed!</p>\n",
       "    \n",
       "\n"
      ],
      "text/plain": [
       "q1a passed!\n",
       "\n",
       "q1b passed!\n",
       "\n",
       "q1c passed!\n",
       "\n",
       "q2a passed!\n",
       "\n",
       "q2b passed!\n",
       "\n",
       "q4a passed!\n",
       "\n",
       "q4b passed!\n",
       "\n",
       "q5a passed!\n",
       "\n",
       "q5c passed!\n"
      ]
     },
     "execution_count": 30,
     "metadata": {},
     "output_type": "execute_result"
    }
   ],
   "source": [
    "grader.check_all()"
   ]
  },
  {
   "cell_type": "markdown",
   "metadata": {
    "deletable": false,
    "editable": false
   },
   "source": [
    "## Submission\n",
    "\n",
    "Make sure you have run all cells in your notebook in order before running the cell below, so that all images/graphs appear in the output. The cell below will generate a zip file for you to submit. **Please save before exporting!**"
   ]
  },
  {
   "cell_type": "code",
   "execution_count": 31,
   "metadata": {
    "deletable": false,
    "editable": false
   },
   "outputs": [
    {
     "data": {
      "text/html": [
       "\n",
       "                <p>Your submission has been exported. Click <a href=\"assignment1.zip\" target=\"_blank\">here</a>\n",
       "                to download the zip file.</p>\n",
       "                "
      ],
      "text/plain": [
       "<IPython.core.display.HTML object>"
      ]
     },
     "metadata": {},
     "output_type": "display_data"
    }
   ],
   "source": [
    "# Save your notebook first, then run this cell to export your submission.\n",
    "grader.export()"
   ]
  },
  {
   "cell_type": "markdown",
   "metadata": {},
   "source": [
    " "
   ]
  }
 ],
 "metadata": {
  "kernelspec": {
   "display_name": "Python 3",
   "language": "python",
   "name": "python3"
  },
  "language_info": {
   "codemirror_mode": {
    "name": "ipython",
    "version": 3
   },
   "file_extension": ".py",
   "mimetype": "text/x-python",
   "name": "python",
   "nbconvert_exporter": "python",
   "pygments_lexer": "ipython3",
   "version": "3.7.3"
  },
  "toc": {
   "base_numbering": 1,
   "nav_menu": {},
   "number_sections": true,
   "sideBar": true,
   "skip_h1_title": false,
   "title_cell": "Table of Contents",
   "title_sidebar": "Contents",
   "toc_cell": false,
   "toc_position": {},
   "toc_section_display": true,
   "toc_window_display": false
  }
 },
 "nbformat": 4,
 "nbformat_minor": 4
}
